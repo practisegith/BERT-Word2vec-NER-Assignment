{
 "cells": [
  {
   "cell_type": "code",
   "execution_count": 15,
   "id": "5b6bd772",
   "metadata": {},
   "outputs": [],
   "source": [
    "import numpy as np\n",
    "from gensim.models import Word2Vec\n",
    "from sklearn.linear_model import LogisticRegression\n",
    "from sklearn.metrics import accuracy_score\n",
    "sentences = [\"I love this movie\",\n",
    "             \"This is awful\",\n",
    "             \"The acting is great\",\n",
    "             \n",
    "            ]\n",
    "labels = [1, 0, 1,  # corresponding sentiment labels (1: positive, 0: negative)\n",
    "          \n",
    "         ]\n",
    "\n",
    "model = Word2Vec(sentences, vector_size=100, window=5, min_count=1)\n",
    "\n",
    "def get_sentence_vector(sentence):\n",
    "    vectors = [model.wv[word] for word in sentence.split() if word in model.wv]\n",
    "    return np.mean(vectors, axis=0) if vectors else np.zeros(model.vector_size)\n",
    "\n",
    "X = np.array([get_sentence_vector(sentence) for sentence in sentences])\n",
    "\n",
    "\n",
    "classifier = LogisticRegression()\n",
    "classifier.fit(X, labels)\n",
    "\n",
    "\n",
    "test_sentences = [\"This movie is amazing\",\n",
    "                  \"I hate it\",\n",
    "                  \"The plot was confusing\",\n",
    "                  \n",
    "                 ]\n",
    "test_labels = [1, 0, 0,  # corresponding sentiment labels (1: positive, 0: negative)\n",
    "               \n",
    "              ]\n",
    "\n",
    "test_X = np.array([get_sentence_vector(sentence) for sentence in test_sentences])\n",
    "pred_labels = classifier.predict(test_X)"
   ]
  },
  {
   "cell_type": "code",
   "execution_count": 13,
   "id": "eaf0847f",
   "metadata": {},
   "outputs": [
    {
     "data": {
      "text/plain": [
       "[1, 0, 0]"
      ]
     },
     "execution_count": 13,
     "metadata": {},
     "output_type": "execute_result"
    }
   ],
   "source": [
    "test_labels"
   ]
  },
  {
   "cell_type": "code",
   "execution_count": 14,
   "id": "397b5b67",
   "metadata": {},
   "outputs": [
    {
     "data": {
      "text/plain": [
       "<gensim.models.word2vec.Word2Vec at 0x242c2167190>"
      ]
     },
     "execution_count": 14,
     "metadata": {},
     "output_type": "execute_result"
    }
   ],
   "source": [
    "model"
   ]
  },
  {
   "cell_type": "code",
   "execution_count": 16,
   "id": "8ec3a74a",
   "metadata": {},
   "outputs": [
    {
     "name": "stdout",
     "output_type": "stream",
     "text": [
      "Accuracy: 0.3333333333333333\n"
     ]
    }
   ],
   "source": [
    "accuracy = accuracy_score(test_labels, pred_labels)\n",
    "print(\"Accuracy:\", accuracy)\n"
   ]
  },
  {
   "cell_type": "code",
   "execution_count": null,
   "id": "f4dba2ec",
   "metadata": {},
   "outputs": [],
   "source": []
  }
 ],
 "metadata": {
  "kernelspec": {
   "display_name": "Python 3 (ipykernel)",
   "language": "python",
   "name": "python3"
  },
  "language_info": {
   "codemirror_mode": {
    "name": "ipython",
    "version": 3
   },
   "file_extension": ".py",
   "mimetype": "text/x-python",
   "name": "python",
   "nbconvert_exporter": "python",
   "pygments_lexer": "ipython3",
   "version": "3.10.4"
  }
 },
 "nbformat": 4,
 "nbformat_minor": 5
}
