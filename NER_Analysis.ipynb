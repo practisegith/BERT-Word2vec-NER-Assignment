{
  "nbformat": 4,
  "nbformat_minor": 0,
  "metadata": {
    "colab": {
      "provenance": []
    },
    "kernelspec": {
      "name": "python3",
      "display_name": "Python 3"
    },
    "language_info": {
      "name": "python"
    }
  },
  "cells": [
    {
      "cell_type": "code",
      "execution_count": 1,
      "metadata": {
        "colab": {
          "base_uri": "https://localhost:8080/"
        },
        "id": "lvXCy2x-q9L4",
        "outputId": "9319dad2-5d7e-465e-cd67-00252846412f"
      },
      "outputs": [
        {
          "output_type": "stream",
          "name": "stdout",
          "text": [
            "\u001b[38;5;2m✔ Download and installation successful\u001b[0m\n",
            "You can now load the package via spacy.load('en_core_web_lg')\n"
          ]
        }
      ],
      "source": [
        "import spacy.cli\n",
        "spacy.cli.download(\"en_core_web_lg\")\n",
        "nlp=spacy.load(\"en_core_web_lg\")"
      ]
    },
    {
      "cell_type": "code",
      "source": [
        "# Example text\n",
        "text = \"Apple Inc. is planning to open a new store in New York City.\"\n",
        "\n",
        "# Apply NER on the text\n",
        "doc = nlp(text)\n",
        "\n",
        "# Extract named entities and their labels\n",
        "entities = [(ent.text, ent.label_) for ent in doc.ents]\n",
        "\n",
        "# Print the named entities\n",
        "for entity, label in entities:\n",
        "    print(\"Entity:\", entity)\n",
        "    print(\"Label:\", label)\n",
        "    print()"
      ],
      "metadata": {
        "colab": {
          "base_uri": "https://localhost:8080/"
        },
        "id": "z27fZQQJrh1S",
        "outputId": "7697cb63-b058-4d6b-b059-fcf7877feea5"
      },
      "execution_count": 2,
      "outputs": [
        {
          "output_type": "stream",
          "name": "stdout",
          "text": [
            "Entity: Apple Inc.\n",
            "Label: ORG\n",
            "\n",
            "Entity: New York City\n",
            "Label: GPE\n",
            "\n"
          ]
        }
      ]
    },
    {
      "cell_type": "code",
      "source": [
        "!pip install vaderSentiment\n",
        "import spacy\n",
        "from vaderSentiment.vaderSentiment import SentimentIntensityAnalyzer\n",
        "\n",
        "# Load the spaCy model\n",
        "nlp = spacy.load(\"en_core_web_sm\")\n",
        "\n",
        "# Load the VADER sentiment analyzer\n",
        "analyzer = SentimentIntensityAnalyzer()\n",
        "\n",
        "# Example text\n",
        "text = \"Apple Inc. is a great company and their products are amazing.\"\n",
        "\n",
        "# Apply NER to extract named entities\n",
        "doc = nlp(text)\n",
        "entities = [(ent.text, ent.label_) for ent in doc.ents]\n"
      ],
      "metadata": {
        "colab": {
          "base_uri": "https://localhost:8080/"
        },
        "id": "VkPoiRXisVq-",
        "outputId": "eed911a0-9c60-41da-bb43-f3246efe2e3d"
      },
      "execution_count": 5,
      "outputs": [
        {
          "output_type": "stream",
          "name": "stdout",
          "text": [
            "Collecting vaderSentiment\n",
            "  Downloading vaderSentiment-3.3.2-py2.py3-none-any.whl (125 kB)\n",
            "\u001b[?25l     \u001b[90m━━━━━━━━━━━━━━━━━━━━━━━━━━━━━━━━━━━━━━━━\u001b[0m \u001b[32m0.0/126.0 kB\u001b[0m \u001b[31m?\u001b[0m eta \u001b[36m-:--:--\u001b[0m\r\u001b[2K     \u001b[90m━━━━━━━━━━━━━━━━━━━━━━━━━━━━━━━━━━━━━━━\u001b[0m \u001b[32m126.0/126.0 kB\u001b[0m \u001b[31m6.2 MB/s\u001b[0m eta \u001b[36m0:00:00\u001b[0m\n",
            "\u001b[?25hRequirement already satisfied: requests in /usr/local/lib/python3.10/dist-packages (from vaderSentiment) (2.27.1)\n",
            "Requirement already satisfied: urllib3<1.27,>=1.21.1 in /usr/local/lib/python3.10/dist-packages (from requests->vaderSentiment) (1.26.16)\n",
            "Requirement already satisfied: certifi>=2017.4.17 in /usr/local/lib/python3.10/dist-packages (from requests->vaderSentiment) (2023.5.7)\n",
            "Requirement already satisfied: charset-normalizer~=2.0.0 in /usr/local/lib/python3.10/dist-packages (from requests->vaderSentiment) (2.0.12)\n",
            "Requirement already satisfied: idna<4,>=2.5 in /usr/local/lib/python3.10/dist-packages (from requests->vaderSentiment) (3.4)\n",
            "Installing collected packages: vaderSentiment\n",
            "Successfully installed vaderSentiment-3.3.2\n"
          ]
        }
      ]
    },
    {
      "cell_type": "code",
      "source": [
        "# Perform sentiment analysis on each named entity\n",
        "for entity, label in entities:\n",
        "    sentiment_scores = analyzer.polarity_scores(entity)\n",
        "    sentiment_score = sentiment_scores[\"compound\"]\n",
        "    if sentiment_score >= 0.05:\n",
        "        sentiment_label = \"Positive\"\n",
        "    elif sentiment_score <= -0.05:\n",
        "        sentiment_label = \"Negative\"\n",
        "    else:\n",
        "        sentiment_label = \"Neutral\"\n",
        "    print(\"Entity:\", entity)\n",
        "    print(\"Sentiment Label:\", sentiment_label)\n",
        "    print(\"Sentiment Score:\", sentiment_score)\n",
        "    print()"
      ],
      "metadata": {
        "colab": {
          "base_uri": "https://localhost:8080/"
        },
        "id": "jWhx7Ho3six5",
        "outputId": "b4c16fec-8517-4987-8c44-b1141b2c5196"
      },
      "execution_count": 6,
      "outputs": [
        {
          "output_type": "stream",
          "name": "stdout",
          "text": [
            "Entity: Apple Inc.\n",
            "Sentiment Label: Neutral\n",
            "Sentiment Score: 0.0\n",
            "\n"
          ]
        }
      ]
    }
  ]
}